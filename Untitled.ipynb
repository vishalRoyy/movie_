{
 "cells": [
  {
   "cell_type": "code",
   "execution_count": 122,
   "id": "48096f36-5dad-4b5e-968a-b9a802129966",
   "metadata": {},
   "outputs": [],
   "source": [
    "import numpy as np # linear algebra\n",
    "import streamlit as st\n",
    "import pandas as pd # data processing, CSV file I/O (e.g. pd.read_csv)"
   ]
  },
  {
   "cell_type": "code",
   "execution_count": 123,
   "id": "196eb2cf-03c7-47ae-a2a3-f0ab5d36cdb1",
   "metadata": {},
   "outputs": [
    {
     "name": "stdout",
     "output_type": "stream",
     "text": [
      "Current Working Directory: C:\\Users\\HARSHIT ANAND\\Desktop\\data\n"
     ]
    }
   ],
   "source": [
    "import os\n",
    "print(\"Current Working Directory:\", os.getcwd())"
   ]
  },
  {
   "cell_type": "code",
   "execution_count": 124,
   "id": "d861065c-3225-4222-9f76-0f9950b67182",
   "metadata": {},
   "outputs": [],
   "source": [
    "movies = pd.read_csv('../data/movies.csv')\n",
    "credits = pd.read_csv('../data/credits.csv')"
   ]
  },
  {
   "cell_type": "code",
   "execution_count": 128,
   "id": "001840d4-851d-4d52-a701-0b5c269ba65a",
   "metadata": {},
   "outputs": [
    {
     "data": {
      "text/html": [
       "<div>\n",
       "<style scoped>\n",
       "    .dataframe tbody tr th:only-of-type {\n",
       "        vertical-align: middle;\n",
       "    }\n",
       "\n",
       "    .dataframe tbody tr th {\n",
       "        vertical-align: top;\n",
       "    }\n",
       "\n",
       "    .dataframe thead th {\n",
       "        text-align: right;\n",
       "    }\n",
       "</style>\n",
       "<table border=\"1\" class=\"dataframe\">\n",
       "  <thead>\n",
       "    <tr style=\"text-align: right;\">\n",
       "      <th></th>\n",
       "      <th>id</th>\n",
       "      <th>title</th>\n",
       "      <th>genre</th>\n",
       "      <th>original_language</th>\n",
       "      <th>overview</th>\n",
       "      <th>popularity</th>\n",
       "      <th>release_date</th>\n",
       "      <th>vote_average</th>\n",
       "      <th>vote_count</th>\n",
       "    </tr>\n",
       "  </thead>\n",
       "  <tbody>\n",
       "    <tr>\n",
       "      <th>0</th>\n",
       "      <td>278</td>\n",
       "      <td>The Shawshank Redemption</td>\n",
       "      <td>Drama,Crime</td>\n",
       "      <td>en</td>\n",
       "      <td>Framed in the 1940s for the double murder of h...</td>\n",
       "      <td>94.075</td>\n",
       "      <td>1994-09-23</td>\n",
       "      <td>8.7</td>\n",
       "      <td>21862</td>\n",
       "    </tr>\n",
       "    <tr>\n",
       "      <th>1</th>\n",
       "      <td>19404</td>\n",
       "      <td>Dilwale Dulhania Le Jayenge</td>\n",
       "      <td>Comedy,Drama,Romance</td>\n",
       "      <td>hi</td>\n",
       "      <td>Raj is a rich, carefree, happy-go-lucky second...</td>\n",
       "      <td>25.408</td>\n",
       "      <td>1995-10-19</td>\n",
       "      <td>8.7</td>\n",
       "      <td>3731</td>\n",
       "    </tr>\n",
       "  </tbody>\n",
       "</table>\n",
       "</div>"
      ],
      "text/plain": [
       "      id                        title                 genre original_language  \\\n",
       "0    278     The Shawshank Redemption           Drama,Crime                en   \n",
       "1  19404  Dilwale Dulhania Le Jayenge  Comedy,Drama,Romance                hi   \n",
       "\n",
       "                                            overview  popularity release_date  \\\n",
       "0  Framed in the 1940s for the double murder of h...      94.075   1994-09-23   \n",
       "1  Raj is a rich, carefree, happy-go-lucky second...      25.408   1995-10-19   \n",
       "\n",
       "   vote_average  vote_count  \n",
       "0           8.7       21862  \n",
       "1           8.7        3731  "
      ]
     },
     "execution_count": 128,
     "metadata": {},
     "output_type": "execute_result"
    }
   ],
   "source": [
    "movies.head(2)"
   ]
  },
  {
   "cell_type": "code",
   "execution_count": 137,
   "id": "5221cd55-017c-4144-863c-0a3b38407622",
   "metadata": {},
   "outputs": [
    {
     "name": "stdout",
     "output_type": "stream",
     "text": [
      "   movie_id                     title  \\\n",
      "0       278  The Shawshank Redemption   \n",
      "1       238             The Godfather   \n",
      "2       424          Schindler's List   \n",
      "3       240    The Godfather: Part II   \n",
      "4       129             Spirited Away   \n",
      "\n",
      "                                            overview  \\\n",
      "0  Framed in the 1940s for the double murder of h...   \n",
      "1  Spanning the years 1945 to 1955, a chronicle o...   \n",
      "2  The true story of how businessman Oskar Schind...   \n",
      "3  In the continuing saga of the Corleone crime f...   \n",
      "4  A young girl, Chihiro, becomes trapped in a st...   \n",
      "\n",
      "                      genre  \\\n",
      "0               Drama,Crime   \n",
      "1               Drama,Crime   \n",
      "2         Drama,History,War   \n",
      "3               Drama,Crime   \n",
      "4  Animation,Family,Fantasy   \n",
      "\n",
      "                                                cast                    crew  \n",
      "0  [{\"cast_id\": 3, \"character\": \"Andy Dufresne\", ...        [Frank Darabont]  \n",
      "1  [{\"cast_id\": 5, \"character\": \"Don Vito Corleon...  [Francis Ford Coppola]  \n",
      "2  [{\"cast_id\": 14, \"character\": \"Oskar Schindler...      [Steven Spielberg]  \n",
      "3  [{\"cast_id\": 8, \"character\": \"Don Michael Corl...  [Francis Ford Coppola]  \n",
      "4  [{\"cast_id\": 3, \"character\": \"Chihiro (voice)\"...        [Hayao Miyazaki]  \n"
     ]
    }
   ],
   "source": [
    "print(movies.head())"
   ]
  },
  {
   "cell_type": "code",
   "execution_count": 138,
   "id": "8bcbdbd1-5780-4fb9-89dd-4e0cd325f1e8",
   "metadata": {},
   "outputs": [
    {
     "name": "stdout",
     "output_type": "stream",
     "text": [
      "Index(['movie_id', 'title', 'overview', 'genre', 'cast', 'crew'], dtype='object')\n"
     ]
    }
   ],
   "source": [
    "# Display the column names\n",
    "print(movies.columns)\n"
   ]
  },
  {
   "cell_type": "code",
   "execution_count": 157,
   "id": "77b9d09a-0006-475d-b309-84e3d6bbf977",
   "metadata": {},
   "outputs": [
    {
     "name": "stdout",
     "output_type": "stream",
     "text": [
      "      movie_id        title  \\\n",
      "3285      1250  Ghost Rider   \n",
      "\n",
      "                                               overview  \\\n",
      "3285  In order to save his dying father, young stunt...   \n",
      "\n",
      "                        genre  \\\n",
      "3285  Thriller,Action,Fantasy   \n",
      "\n",
      "                                                   cast                   crew  \n",
      "3285  [{\"cast_id\": 11, \"character\": \"Johnny Blaze/Gh...  [Mark Steven Johnson]  \n"
     ]
    }
   ],
   "source": [
    "# Check if the title exists\n",
    "print(movies[movies['title'] == \"Ghost Rider\"])\n"
   ]
  },
  {
   "cell_type": "code",
   "execution_count": 129,
   "id": "05d800af-2159-4481-bbd7-429104e2678e",
   "metadata": {},
   "outputs": [
    {
     "data": {
      "text/html": [
       "<div>\n",
       "<style scoped>\n",
       "    .dataframe tbody tr th:only-of-type {\n",
       "        vertical-align: middle;\n",
       "    }\n",
       "\n",
       "    .dataframe tbody tr th {\n",
       "        vertical-align: top;\n",
       "    }\n",
       "\n",
       "    .dataframe thead th {\n",
       "        text-align: right;\n",
       "    }\n",
       "</style>\n",
       "<table border=\"1\" class=\"dataframe\">\n",
       "  <thead>\n",
       "    <tr style=\"text-align: right;\">\n",
       "      <th></th>\n",
       "      <th>movie_id</th>\n",
       "      <th>title</th>\n",
       "      <th>cast</th>\n",
       "      <th>crew</th>\n",
       "    </tr>\n",
       "  </thead>\n",
       "  <tbody>\n",
       "    <tr>\n",
       "      <th>0</th>\n",
       "      <td>19995</td>\n",
       "      <td>Avatar</td>\n",
       "      <td>[{\"cast_id\": 242, \"character\": \"Jake Sully\", \"...</td>\n",
       "      <td>[{\"credit_id\": \"52fe48009251416c750aca23\", \"de...</td>\n",
       "    </tr>\n",
       "    <tr>\n",
       "      <th>1</th>\n",
       "      <td>285</td>\n",
       "      <td>Pirates of the Caribbean: At World's End</td>\n",
       "      <td>[{\"cast_id\": 4, \"character\": \"Captain Jack Spa...</td>\n",
       "      <td>[{\"credit_id\": \"52fe4232c3a36847f800b579\", \"de...</td>\n",
       "    </tr>\n",
       "    <tr>\n",
       "      <th>2</th>\n",
       "      <td>206647</td>\n",
       "      <td>Spectre</td>\n",
       "      <td>[{\"cast_id\": 1, \"character\": \"James Bond\", \"cr...</td>\n",
       "      <td>[{\"credit_id\": \"54805967c3a36829b5002c41\", \"de...</td>\n",
       "    </tr>\n",
       "    <tr>\n",
       "      <th>3</th>\n",
       "      <td>49026</td>\n",
       "      <td>The Dark Knight Rises</td>\n",
       "      <td>[{\"cast_id\": 2, \"character\": \"Bruce Wayne / Ba...</td>\n",
       "      <td>[{\"credit_id\": \"52fe4781c3a36847f81398c3\", \"de...</td>\n",
       "    </tr>\n",
       "    <tr>\n",
       "      <th>4</th>\n",
       "      <td>49529</td>\n",
       "      <td>John Carter</td>\n",
       "      <td>[{\"cast_id\": 5, \"character\": \"John Carter\", \"c...</td>\n",
       "      <td>[{\"credit_id\": \"52fe479ac3a36847f813eaa3\", \"de...</td>\n",
       "    </tr>\n",
       "  </tbody>\n",
       "</table>\n",
       "</div>"
      ],
      "text/plain": [
       "   movie_id                                     title  \\\n",
       "0     19995                                    Avatar   \n",
       "1       285  Pirates of the Caribbean: At World's End   \n",
       "2    206647                                   Spectre   \n",
       "3     49026                     The Dark Knight Rises   \n",
       "4     49529                               John Carter   \n",
       "\n",
       "                                                cast  \\\n",
       "0  [{\"cast_id\": 242, \"character\": \"Jake Sully\", \"...   \n",
       "1  [{\"cast_id\": 4, \"character\": \"Captain Jack Spa...   \n",
       "2  [{\"cast_id\": 1, \"character\": \"James Bond\", \"cr...   \n",
       "3  [{\"cast_id\": 2, \"character\": \"Bruce Wayne / Ba...   \n",
       "4  [{\"cast_id\": 5, \"character\": \"John Carter\", \"c...   \n",
       "\n",
       "                                                crew  \n",
       "0  [{\"credit_id\": \"52fe48009251416c750aca23\", \"de...  \n",
       "1  [{\"credit_id\": \"52fe4232c3a36847f800b579\", \"de...  \n",
       "2  [{\"credit_id\": \"54805967c3a36829b5002c41\", \"de...  \n",
       "3  [{\"credit_id\": \"52fe4781c3a36847f81398c3\", \"de...  \n",
       "4  [{\"credit_id\": \"52fe479ac3a36847f813eaa3\", \"de...  "
      ]
     },
     "execution_count": 129,
     "metadata": {},
     "output_type": "execute_result"
    }
   ],
   "source": [
    "credits.head()"
   ]
  },
  {
   "cell_type": "code",
   "execution_count": 130,
   "id": "78bdab9e-905e-4795-af86-ff8fef28aee8",
   "metadata": {},
   "outputs": [],
   "source": [
    "movies = movies.merge(credits,on='title')"
   ]
  },
  {
   "cell_type": "code",
   "execution_count": 62,
   "id": "b2d50af3-31f7-42ff-840f-481f6a6a130c",
   "metadata": {},
   "outputs": [
    {
     "data": {
      "text/html": [
       "<div>\n",
       "<style scoped>\n",
       "    .dataframe tbody tr th:only-of-type {\n",
       "        vertical-align: middle;\n",
       "    }\n",
       "\n",
       "    .dataframe tbody tr th {\n",
       "        vertical-align: top;\n",
       "    }\n",
       "\n",
       "    .dataframe thead th {\n",
       "        text-align: right;\n",
       "    }\n",
       "</style>\n",
       "<table border=\"1\" class=\"dataframe\">\n",
       "  <thead>\n",
       "    <tr style=\"text-align: right;\">\n",
       "      <th></th>\n",
       "      <th>id</th>\n",
       "      <th>title</th>\n",
       "      <th>genre</th>\n",
       "      <th>original_language</th>\n",
       "      <th>overview</th>\n",
       "      <th>popularity</th>\n",
       "      <th>release_date</th>\n",
       "      <th>vote_average</th>\n",
       "      <th>vote_count</th>\n",
       "      <th>movie_id</th>\n",
       "      <th>cast</th>\n",
       "      <th>crew</th>\n",
       "    </tr>\n",
       "  </thead>\n",
       "  <tbody>\n",
       "    <tr>\n",
       "      <th>0</th>\n",
       "      <td>278</td>\n",
       "      <td>The Shawshank Redemption</td>\n",
       "      <td>Drama,Crime</td>\n",
       "      <td>en</td>\n",
       "      <td>Framed in the 1940s for the double murder of h...</td>\n",
       "      <td>94.075</td>\n",
       "      <td>1994-09-23</td>\n",
       "      <td>8.7</td>\n",
       "      <td>21862</td>\n",
       "      <td>278</td>\n",
       "      <td>[{\"cast_id\": 3, \"character\": \"Andy Dufresne\", ...</td>\n",
       "      <td>[{\"credit_id\": \"52fe4231c3a36847f800b153\", \"de...</td>\n",
       "    </tr>\n",
       "    <tr>\n",
       "      <th>1</th>\n",
       "      <td>238</td>\n",
       "      <td>The Godfather</td>\n",
       "      <td>Drama,Crime</td>\n",
       "      <td>en</td>\n",
       "      <td>Spanning the years 1945 to 1955, a chronicle o...</td>\n",
       "      <td>90.585</td>\n",
       "      <td>1972-03-14</td>\n",
       "      <td>8.7</td>\n",
       "      <td>16280</td>\n",
       "      <td>238</td>\n",
       "      <td>[{\"cast_id\": 5, \"character\": \"Don Vito Corleon...</td>\n",
       "      <td>[{\"credit_id\": \"52fe422bc3a36847f80093c9\", \"de...</td>\n",
       "    </tr>\n",
       "    <tr>\n",
       "      <th>2</th>\n",
       "      <td>424</td>\n",
       "      <td>Schindler's List</td>\n",
       "      <td>Drama,History,War</td>\n",
       "      <td>en</td>\n",
       "      <td>The true story of how businessman Oskar Schind...</td>\n",
       "      <td>44.761</td>\n",
       "      <td>1993-12-15</td>\n",
       "      <td>8.6</td>\n",
       "      <td>12959</td>\n",
       "      <td>424</td>\n",
       "      <td>[{\"cast_id\": 14, \"character\": \"Oskar Schindler...</td>\n",
       "      <td>[{\"credit_id\": \"52fe4242c3a36847f8010303\", \"de...</td>\n",
       "    </tr>\n",
       "    <tr>\n",
       "      <th>3</th>\n",
       "      <td>240</td>\n",
       "      <td>The Godfather: Part II</td>\n",
       "      <td>Drama,Crime</td>\n",
       "      <td>en</td>\n",
       "      <td>In the continuing saga of the Corleone crime f...</td>\n",
       "      <td>57.749</td>\n",
       "      <td>1974-12-20</td>\n",
       "      <td>8.6</td>\n",
       "      <td>9811</td>\n",
       "      <td>240</td>\n",
       "      <td>[{\"cast_id\": 8, \"character\": \"Don Michael Corl...</td>\n",
       "      <td>[{\"credit_id\": \"52fe422bc3a36847f8009501\", \"de...</td>\n",
       "    </tr>\n",
       "    <tr>\n",
       "      <th>4</th>\n",
       "      <td>129</td>\n",
       "      <td>Spirited Away</td>\n",
       "      <td>Animation,Family,Fantasy</td>\n",
       "      <td>ja</td>\n",
       "      <td>A young girl, Chihiro, becomes trapped in a st...</td>\n",
       "      <td>92.056</td>\n",
       "      <td>2001-07-20</td>\n",
       "      <td>8.5</td>\n",
       "      <td>13093</td>\n",
       "      <td>129</td>\n",
       "      <td>[{\"cast_id\": 3, \"character\": \"Chihiro (voice)\"...</td>\n",
       "      <td>[{\"credit_id\": \"571e4beec3a3683393000236\", \"de...</td>\n",
       "    </tr>\n",
       "  </tbody>\n",
       "</table>\n",
       "</div>"
      ],
      "text/plain": [
       "    id                     title                     genre original_language  \\\n",
       "0  278  The Shawshank Redemption               Drama,Crime                en   \n",
       "1  238             The Godfather               Drama,Crime                en   \n",
       "2  424          Schindler's List         Drama,History,War                en   \n",
       "3  240    The Godfather: Part II               Drama,Crime                en   \n",
       "4  129             Spirited Away  Animation,Family,Fantasy                ja   \n",
       "\n",
       "                                            overview  popularity release_date  \\\n",
       "0  Framed in the 1940s for the double murder of h...      94.075   1994-09-23   \n",
       "1  Spanning the years 1945 to 1955, a chronicle o...      90.585   1972-03-14   \n",
       "2  The true story of how businessman Oskar Schind...      44.761   1993-12-15   \n",
       "3  In the continuing saga of the Corleone crime f...      57.749   1974-12-20   \n",
       "4  A young girl, Chihiro, becomes trapped in a st...      92.056   2001-07-20   \n",
       "\n",
       "   vote_average  vote_count  movie_id  \\\n",
       "0           8.7       21862       278   \n",
       "1           8.7       16280       238   \n",
       "2           8.6       12959       424   \n",
       "3           8.6        9811       240   \n",
       "4           8.5       13093       129   \n",
       "\n",
       "                                                cast  \\\n",
       "0  [{\"cast_id\": 3, \"character\": \"Andy Dufresne\", ...   \n",
       "1  [{\"cast_id\": 5, \"character\": \"Don Vito Corleon...   \n",
       "2  [{\"cast_id\": 14, \"character\": \"Oskar Schindler...   \n",
       "3  [{\"cast_id\": 8, \"character\": \"Don Michael Corl...   \n",
       "4  [{\"cast_id\": 3, \"character\": \"Chihiro (voice)\"...   \n",
       "\n",
       "                                                crew  \n",
       "0  [{\"credit_id\": \"52fe4231c3a36847f800b153\", \"de...  \n",
       "1  [{\"credit_id\": \"52fe422bc3a36847f80093c9\", \"de...  \n",
       "2  [{\"credit_id\": \"52fe4242c3a36847f8010303\", \"de...  \n",
       "3  [{\"credit_id\": \"52fe422bc3a36847f8009501\", \"de...  \n",
       "4  [{\"credit_id\": \"571e4beec3a3683393000236\", \"de...  "
      ]
     },
     "execution_count": 62,
     "metadata": {},
     "output_type": "execute_result"
    }
   ],
   "source": [
    "movies.head()\n",
    "# budget\n",
    "# homepage\n",
    "# id\n",
    "# original_language\n",
    "# original_title\n",
    "# popularity\n",
    "# production_comapny\n",
    "# production_countries\n",
    "# release-date(not sure)"
   ]
  },
  {
   "cell_type": "code",
   "execution_count": 131,
   "id": "24db6229-771d-429f-97ed-4ddcaf008f5b",
   "metadata": {},
   "outputs": [],
   "source": [
    "movies = movies[['movie_id','title','overview','genre','cast','crew']]"
   ]
  },
  {
   "cell_type": "code",
   "execution_count": 132,
   "id": "d2b6aa64-962e-49f6-a635-6605c0b99640",
   "metadata": {},
   "outputs": [
    {
     "data": {
      "text/html": [
       "<div>\n",
       "<style scoped>\n",
       "    .dataframe tbody tr th:only-of-type {\n",
       "        vertical-align: middle;\n",
       "    }\n",
       "\n",
       "    .dataframe tbody tr th {\n",
       "        vertical-align: top;\n",
       "    }\n",
       "\n",
       "    .dataframe thead th {\n",
       "        text-align: right;\n",
       "    }\n",
       "</style>\n",
       "<table border=\"1\" class=\"dataframe\">\n",
       "  <thead>\n",
       "    <tr style=\"text-align: right;\">\n",
       "      <th></th>\n",
       "      <th>movie_id</th>\n",
       "      <th>title</th>\n",
       "      <th>overview</th>\n",
       "      <th>genre</th>\n",
       "      <th>cast</th>\n",
       "      <th>crew</th>\n",
       "    </tr>\n",
       "  </thead>\n",
       "  <tbody>\n",
       "    <tr>\n",
       "      <th>0</th>\n",
       "      <td>278</td>\n",
       "      <td>The Shawshank Redemption</td>\n",
       "      <td>Framed in the 1940s for the double murder of h...</td>\n",
       "      <td>Drama,Crime</td>\n",
       "      <td>[{\"cast_id\": 3, \"character\": \"Andy Dufresne\", ...</td>\n",
       "      <td>[{\"credit_id\": \"52fe4231c3a36847f800b153\", \"de...</td>\n",
       "    </tr>\n",
       "    <tr>\n",
       "      <th>1</th>\n",
       "      <td>238</td>\n",
       "      <td>The Godfather</td>\n",
       "      <td>Spanning the years 1945 to 1955, a chronicle o...</td>\n",
       "      <td>Drama,Crime</td>\n",
       "      <td>[{\"cast_id\": 5, \"character\": \"Don Vito Corleon...</td>\n",
       "      <td>[{\"credit_id\": \"52fe422bc3a36847f80093c9\", \"de...</td>\n",
       "    </tr>\n",
       "    <tr>\n",
       "      <th>2</th>\n",
       "      <td>424</td>\n",
       "      <td>Schindler's List</td>\n",
       "      <td>The true story of how businessman Oskar Schind...</td>\n",
       "      <td>Drama,History,War</td>\n",
       "      <td>[{\"cast_id\": 14, \"character\": \"Oskar Schindler...</td>\n",
       "      <td>[{\"credit_id\": \"52fe4242c3a36847f8010303\", \"de...</td>\n",
       "    </tr>\n",
       "    <tr>\n",
       "      <th>3</th>\n",
       "      <td>240</td>\n",
       "      <td>The Godfather: Part II</td>\n",
       "      <td>In the continuing saga of the Corleone crime f...</td>\n",
       "      <td>Drama,Crime</td>\n",
       "      <td>[{\"cast_id\": 8, \"character\": \"Don Michael Corl...</td>\n",
       "      <td>[{\"credit_id\": \"52fe422bc3a36847f8009501\", \"de...</td>\n",
       "    </tr>\n",
       "    <tr>\n",
       "      <th>4</th>\n",
       "      <td>129</td>\n",
       "      <td>Spirited Away</td>\n",
       "      <td>A young girl, Chihiro, becomes trapped in a st...</td>\n",
       "      <td>Animation,Family,Fantasy</td>\n",
       "      <td>[{\"cast_id\": 3, \"character\": \"Chihiro (voice)\"...</td>\n",
       "      <td>[{\"credit_id\": \"571e4beec3a3683393000236\", \"de...</td>\n",
       "    </tr>\n",
       "  </tbody>\n",
       "</table>\n",
       "</div>"
      ],
      "text/plain": [
       "   movie_id                     title  \\\n",
       "0       278  The Shawshank Redemption   \n",
       "1       238             The Godfather   \n",
       "2       424          Schindler's List   \n",
       "3       240    The Godfather: Part II   \n",
       "4       129             Spirited Away   \n",
       "\n",
       "                                            overview  \\\n",
       "0  Framed in the 1940s for the double murder of h...   \n",
       "1  Spanning the years 1945 to 1955, a chronicle o...   \n",
       "2  The true story of how businessman Oskar Schind...   \n",
       "3  In the continuing saga of the Corleone crime f...   \n",
       "4  A young girl, Chihiro, becomes trapped in a st...   \n",
       "\n",
       "                      genre  \\\n",
       "0               Drama,Crime   \n",
       "1               Drama,Crime   \n",
       "2         Drama,History,War   \n",
       "3               Drama,Crime   \n",
       "4  Animation,Family,Fantasy   \n",
       "\n",
       "                                                cast  \\\n",
       "0  [{\"cast_id\": 3, \"character\": \"Andy Dufresne\", ...   \n",
       "1  [{\"cast_id\": 5, \"character\": \"Don Vito Corleon...   \n",
       "2  [{\"cast_id\": 14, \"character\": \"Oskar Schindler...   \n",
       "3  [{\"cast_id\": 8, \"character\": \"Don Michael Corl...   \n",
       "4  [{\"cast_id\": 3, \"character\": \"Chihiro (voice)\"...   \n",
       "\n",
       "                                                crew  \n",
       "0  [{\"credit_id\": \"52fe4231c3a36847f800b153\", \"de...  \n",
       "1  [{\"credit_id\": \"52fe422bc3a36847f80093c9\", \"de...  \n",
       "2  [{\"credit_id\": \"52fe4242c3a36847f8010303\", \"de...  \n",
       "3  [{\"credit_id\": \"52fe422bc3a36847f8009501\", \"de...  \n",
       "4  [{\"credit_id\": \"571e4beec3a3683393000236\", \"de...  "
      ]
     },
     "execution_count": 132,
     "metadata": {},
     "output_type": "execute_result"
    }
   ],
   "source": [
    "movies.head()\n"
   ]
  },
  {
   "cell_type": "code",
   "execution_count": 65,
   "id": "b78955e4-09ef-413f-af6c-844d54d6a040",
   "metadata": {},
   "outputs": [],
   "source": [
    "import ast"
   ]
  },
  {
   "cell_type": "code",
   "execution_count": 66,
   "id": "4878be03-430c-4126-8d30-d1398150a238",
   "metadata": {},
   "outputs": [
    {
     "data": {
      "text/plain": [
       "[{'id': 28, 'name': 'Action'},\n",
       " {'id': 12, 'name': 'Adventure'},\n",
       " {'id': 14, 'name': 'Fantasy'},\n",
       " {'id': 878, 'name': 'Science Fiction'}]"
      ]
     },
     "execution_count": 66,
     "metadata": {},
     "output_type": "execute_result"
    }
   ],
   "source": [
    "import ast\n",
    "ast.literal_eval('[{\"id\": 28, \"name\": \"Action\"}, {\"id\": 12, \"name\": \"Adventure\"}, {\"id\": 14, \"name\": \"Fantasy\"}, {\"id\": 878, \"name\": \"Science Fiction\"}]')"
   ]
  },
  {
   "cell_type": "code",
   "execution_count": 67,
   "id": "6fdcebf9-9a3a-450a-b29f-380705a94f7a",
   "metadata": {},
   "outputs": [],
   "source": [
    "def convert3(text):\n",
    "    L = []\n",
    "    counter = 0\n",
    "    for i in ast.literal_eval(text):\n",
    "        if counter < 3:\n",
    "            L.append(i['name'])\n",
    "        counter+=1\n",
    "    return L "
   ]
  },
  {
   "cell_type": "code",
   "execution_count": 68,
   "id": "5cb562f9-0d34-40a8-93ed-3c4017f23995",
   "metadata": {},
   "outputs": [
    {
     "data": {
      "text/html": [
       "<div>\n",
       "<style scoped>\n",
       "    .dataframe tbody tr th:only-of-type {\n",
       "        vertical-align: middle;\n",
       "    }\n",
       "\n",
       "    .dataframe tbody tr th {\n",
       "        vertical-align: top;\n",
       "    }\n",
       "\n",
       "    .dataframe thead th {\n",
       "        text-align: right;\n",
       "    }\n",
       "</style>\n",
       "<table border=\"1\" class=\"dataframe\">\n",
       "  <thead>\n",
       "    <tr style=\"text-align: right;\">\n",
       "      <th></th>\n",
       "      <th>movie_id</th>\n",
       "      <th>title</th>\n",
       "      <th>overview</th>\n",
       "      <th>genre</th>\n",
       "      <th>cast</th>\n",
       "      <th>crew</th>\n",
       "    </tr>\n",
       "  </thead>\n",
       "  <tbody>\n",
       "    <tr>\n",
       "      <th>0</th>\n",
       "      <td>278</td>\n",
       "      <td>The Shawshank Redemption</td>\n",
       "      <td>Framed in the 1940s for the double murder of h...</td>\n",
       "      <td>Drama,Crime</td>\n",
       "      <td>[Tim Robbins, Morgan Freeman, Bob Gunton, Clan...</td>\n",
       "      <td>[{\"credit_id\": \"52fe4231c3a36847f800b153\", \"de...</td>\n",
       "    </tr>\n",
       "    <tr>\n",
       "      <th>1</th>\n",
       "      <td>238</td>\n",
       "      <td>The Godfather</td>\n",
       "      <td>Spanning the years 1945 to 1955, a chronicle o...</td>\n",
       "      <td>Drama,Crime</td>\n",
       "      <td>[Marlon Brando, Al Pacino, James Caan, Richard...</td>\n",
       "      <td>[{\"credit_id\": \"52fe422bc3a36847f80093c9\", \"de...</td>\n",
       "    </tr>\n",
       "    <tr>\n",
       "      <th>2</th>\n",
       "      <td>424</td>\n",
       "      <td>Schindler's List</td>\n",
       "      <td>The true story of how businessman Oskar Schind...</td>\n",
       "      <td>Drama,History,War</td>\n",
       "      <td>[Liam Neeson, Ben Kingsley, Ralph Fiennes, Car...</td>\n",
       "      <td>[{\"credit_id\": \"52fe4242c3a36847f8010303\", \"de...</td>\n",
       "    </tr>\n",
       "    <tr>\n",
       "      <th>3</th>\n",
       "      <td>240</td>\n",
       "      <td>The Godfather: Part II</td>\n",
       "      <td>In the continuing saga of the Corleone crime f...</td>\n",
       "      <td>Drama,Crime</td>\n",
       "      <td>[Al Pacino, Robert Duvall, Diane Keaton, Rober...</td>\n",
       "      <td>[{\"credit_id\": \"52fe422bc3a36847f8009501\", \"de...</td>\n",
       "    </tr>\n",
       "    <tr>\n",
       "      <th>4</th>\n",
       "      <td>129</td>\n",
       "      <td>Spirited Away</td>\n",
       "      <td>A young girl, Chihiro, becomes trapped in a st...</td>\n",
       "      <td>Animation,Family,Fantasy</td>\n",
       "      <td>[Rumi Hiiragi, Miyu Irino, Mari Natsuki, Takas...</td>\n",
       "      <td>[{\"credit_id\": \"571e4beec3a3683393000236\", \"de...</td>\n",
       "    </tr>\n",
       "  </tbody>\n",
       "</table>\n",
       "</div>"
      ],
      "text/plain": [
       "   movie_id                     title  \\\n",
       "0       278  The Shawshank Redemption   \n",
       "1       238             The Godfather   \n",
       "2       424          Schindler's List   \n",
       "3       240    The Godfather: Part II   \n",
       "4       129             Spirited Away   \n",
       "\n",
       "                                            overview  \\\n",
       "0  Framed in the 1940s for the double murder of h...   \n",
       "1  Spanning the years 1945 to 1955, a chronicle o...   \n",
       "2  The true story of how businessman Oskar Schind...   \n",
       "3  In the continuing saga of the Corleone crime f...   \n",
       "4  A young girl, Chihiro, becomes trapped in a st...   \n",
       "\n",
       "                      genre  \\\n",
       "0               Drama,Crime   \n",
       "1               Drama,Crime   \n",
       "2         Drama,History,War   \n",
       "3               Drama,Crime   \n",
       "4  Animation,Family,Fantasy   \n",
       "\n",
       "                                                cast  \\\n",
       "0  [Tim Robbins, Morgan Freeman, Bob Gunton, Clan...   \n",
       "1  [Marlon Brando, Al Pacino, James Caan, Richard...   \n",
       "2  [Liam Neeson, Ben Kingsley, Ralph Fiennes, Car...   \n",
       "3  [Al Pacino, Robert Duvall, Diane Keaton, Rober...   \n",
       "4  [Rumi Hiiragi, Miyu Irino, Mari Natsuki, Takas...   \n",
       "\n",
       "                                                crew  \n",
       "0  [{\"credit_id\": \"52fe4231c3a36847f800b153\", \"de...  \n",
       "1  [{\"credit_id\": \"52fe422bc3a36847f80093c9\", \"de...  \n",
       "2  [{\"credit_id\": \"52fe4242c3a36847f8010303\", \"de...  \n",
       "3  [{\"credit_id\": \"52fe422bc3a36847f8009501\", \"de...  \n",
       "4  [{\"credit_id\": \"571e4beec3a3683393000236\", \"de...  "
      ]
     },
     "execution_count": 68,
     "metadata": {},
     "output_type": "execute_result"
    }
   ],
   "source": [
    "movies['cast'] = movies['cast'].apply(convert)\n",
    "movies.head()"
   ]
  },
  {
   "cell_type": "code",
   "execution_count": 69,
   "id": "851401dc-77cc-44bd-a869-d6781c5bd488",
   "metadata": {},
   "outputs": [],
   "source": [
    "movies['cast'] = movies['cast'].apply(lambda x:x[0:3])"
   ]
  },
  {
   "cell_type": "code",
   "execution_count": 70,
   "id": "407359e4-e2d7-4abe-a300-6a40fb7d8f15",
   "metadata": {},
   "outputs": [],
   "source": [
    "def fetch_director(text):\n",
    "    L = []\n",
    "    for i in ast.literal_eval(text):\n",
    "        if i['job'] == 'Director':\n",
    "            L.append(i['name'])\n",
    "    return L "
   ]
  },
  {
   "cell_type": "code",
   "execution_count": 1,
   "id": "ed8f27bc-da55-4cf7-a350-5c2a4b1b203d",
   "metadata": {},
   "outputs": [
    {
     "ename": "NameError",
     "evalue": "name 'movies' is not defined",
     "output_type": "error",
     "traceback": [
      "\u001b[1;31m---------------------------------------------------------------------------\u001b[0m",
      "\u001b[1;31mNameError\u001b[0m                                 Traceback (most recent call last)",
      "Cell \u001b[1;32mIn[1], line 1\u001b[0m\n\u001b[1;32m----> 1\u001b[0m movies[\u001b[38;5;124m'\u001b[39m\u001b[38;5;124mcrew\u001b[39m\u001b[38;5;124m'\u001b[39m] \u001b[38;5;241m=\u001b[39m \u001b[43mmovies\u001b[49m[\u001b[38;5;124m'\u001b[39m\u001b[38;5;124mcrew\u001b[39m\u001b[38;5;124m'\u001b[39m]\u001b[38;5;241m.\u001b[39mapply(fetch_director)\n",
      "\u001b[1;31mNameError\u001b[0m: name 'movies' is not defined"
     ]
    }
   ],
   "source": [
    "movies['crew'] = movies['crew'].apply(fetch_director)"
   ]
  },
  {
   "cell_type": "code",
   "execution_count": 72,
   "id": "cd2daf43-f6eb-42b5-883f-f1d8dc894835",
   "metadata": {},
   "outputs": [
    {
     "data": {
      "text/html": [
       "<div>\n",
       "<style scoped>\n",
       "    .dataframe tbody tr th:only-of-type {\n",
       "        vertical-align: middle;\n",
       "    }\n",
       "\n",
       "    .dataframe tbody tr th {\n",
       "        vertical-align: top;\n",
       "    }\n",
       "\n",
       "    .dataframe thead th {\n",
       "        text-align: right;\n",
       "    }\n",
       "</style>\n",
       "<table border=\"1\" class=\"dataframe\">\n",
       "  <thead>\n",
       "    <tr style=\"text-align: right;\">\n",
       "      <th></th>\n",
       "      <th>movie_id</th>\n",
       "      <th>title</th>\n",
       "      <th>overview</th>\n",
       "      <th>genre</th>\n",
       "      <th>cast</th>\n",
       "      <th>crew</th>\n",
       "    </tr>\n",
       "  </thead>\n",
       "  <tbody>\n",
       "    <tr>\n",
       "      <th>3394</th>\n",
       "      <td>10336</td>\n",
       "      <td>Spawn</td>\n",
       "      <td>After being murdered by corrupt colleagues in ...</td>\n",
       "      <td>Action,Adventure,Fantasy,Horror,Science Fictio...</td>\n",
       "      <td>[Michael Jai White, Martin Sheen, John Leguizamo]</td>\n",
       "      <td>[Mark A.Z. Dippé]</td>\n",
       "    </tr>\n",
       "    <tr>\n",
       "      <th>3285</th>\n",
       "      <td>1250</td>\n",
       "      <td>Ghost Rider</td>\n",
       "      <td>In order to save his dying father, young stunt...</td>\n",
       "      <td>Thriller,Action,Fantasy</td>\n",
       "      <td>[Nicolas Cage, Eva Mendes, Wes Bentley]</td>\n",
       "      <td>[Mark Steven Johnson]</td>\n",
       "    </tr>\n",
       "    <tr>\n",
       "      <th>1043</th>\n",
       "      <td>586</td>\n",
       "      <td>Wag the Dog</td>\n",
       "      <td>During the final weeks of a presidential race,...</td>\n",
       "      <td>Comedy,Drama</td>\n",
       "      <td>[Dustin Hoffman, Robert De Niro, Anne Heche]</td>\n",
       "      <td>[Barry Levinson]</td>\n",
       "    </tr>\n",
       "    <tr>\n",
       "      <th>2742</th>\n",
       "      <td>11678</td>\n",
       "      <td>Vertical Limit</td>\n",
       "      <td>Trapped near the summit of K2, the world's sec...</td>\n",
       "      <td>Adventure,Action,Thriller</td>\n",
       "      <td>[Chris O'Donnell, Robin Tunney, Bill Paxton]</td>\n",
       "      <td>[Martin Campbell]</td>\n",
       "    </tr>\n",
       "    <tr>\n",
       "      <th>3378</th>\n",
       "      <td>11469</td>\n",
       "      <td>Black Knight</td>\n",
       "      <td>Martin Lawrence plays Jamal, an employee in Me...</td>\n",
       "      <td>Comedy,Fantasy,Adventure</td>\n",
       "      <td>[Martin Lawrence, Marsha Thomason, Tom Wilkinson]</td>\n",
       "      <td>[Gil Junger]</td>\n",
       "    </tr>\n",
       "  </tbody>\n",
       "</table>\n",
       "</div>"
      ],
      "text/plain": [
       "      movie_id           title  \\\n",
       "3394     10336           Spawn   \n",
       "3285      1250     Ghost Rider   \n",
       "1043       586     Wag the Dog   \n",
       "2742     11678  Vertical Limit   \n",
       "3378     11469    Black Knight   \n",
       "\n",
       "                                               overview  \\\n",
       "3394  After being murdered by corrupt colleagues in ...   \n",
       "3285  In order to save his dying father, young stunt...   \n",
       "1043  During the final weeks of a presidential race,...   \n",
       "2742  Trapped near the summit of K2, the world's sec...   \n",
       "3378  Martin Lawrence plays Jamal, an employee in Me...   \n",
       "\n",
       "                                                  genre  \\\n",
       "3394  Action,Adventure,Fantasy,Horror,Science Fictio...   \n",
       "3285                            Thriller,Action,Fantasy   \n",
       "1043                                       Comedy,Drama   \n",
       "2742                          Adventure,Action,Thriller   \n",
       "3378                           Comedy,Fantasy,Adventure   \n",
       "\n",
       "                                                   cast                   crew  \n",
       "3394  [Michael Jai White, Martin Sheen, John Leguizamo]      [Mark A.Z. Dippé]  \n",
       "3285            [Nicolas Cage, Eva Mendes, Wes Bentley]  [Mark Steven Johnson]  \n",
       "1043       [Dustin Hoffman, Robert De Niro, Anne Heche]       [Barry Levinson]  \n",
       "2742       [Chris O'Donnell, Robin Tunney, Bill Paxton]      [Martin Campbell]  \n",
       "3378  [Martin Lawrence, Marsha Thomason, Tom Wilkinson]           [Gil Junger]  "
      ]
     },
     "execution_count": 72,
     "metadata": {},
     "output_type": "execute_result"
    }
   ],
   "source": [
    "movies.sample(5)"
   ]
  },
  {
   "cell_type": "code",
   "execution_count": 73,
   "id": "79707edf-db8a-4a96-9b0c-9a35804f5b76",
   "metadata": {},
   "outputs": [],
   "source": [
    "def collapse(L):\n",
    "    L1 = []\n",
    "    for i in L:\n",
    "        L1.append(i.replace(\" \",\"\"))\n",
    "    return L1"
   ]
  },
  {
   "cell_type": "code",
   "execution_count": 74,
   "id": "6c0bf51a-6ca9-40e0-ad84-4b63539477c0",
   "metadata": {},
   "outputs": [],
   "source": [
    "movies['cast'] = movies['cast'].apply(collapse)\n",
    "movies['crew'] = movies['crew'].apply(collapse)\n",
    "movies['genre'] = movies['genre'].apply(collapse)"
   ]
  },
  {
   "cell_type": "code",
   "execution_count": 75,
   "id": "a2837ff8-289e-4955-b98d-202e7628569b",
   "metadata": {},
   "outputs": [
    {
     "data": {
      "text/html": [
       "<div>\n",
       "<style scoped>\n",
       "    .dataframe tbody tr th:only-of-type {\n",
       "        vertical-align: middle;\n",
       "    }\n",
       "\n",
       "    .dataframe tbody tr th {\n",
       "        vertical-align: top;\n",
       "    }\n",
       "\n",
       "    .dataframe thead th {\n",
       "        text-align: right;\n",
       "    }\n",
       "</style>\n",
       "<table border=\"1\" class=\"dataframe\">\n",
       "  <thead>\n",
       "    <tr style=\"text-align: right;\">\n",
       "      <th></th>\n",
       "      <th>movie_id</th>\n",
       "      <th>title</th>\n",
       "      <th>overview</th>\n",
       "      <th>genre</th>\n",
       "      <th>cast</th>\n",
       "      <th>crew</th>\n",
       "    </tr>\n",
       "  </thead>\n",
       "  <tbody>\n",
       "    <tr>\n",
       "      <th>0</th>\n",
       "      <td>278</td>\n",
       "      <td>The Shawshank Redemption</td>\n",
       "      <td>Framed in the 1940s for the double murder of h...</td>\n",
       "      <td>[D, r, a, m, a, ,, C, r, i, m, e]</td>\n",
       "      <td>[TimRobbins, MorganFreeman, BobGunton]</td>\n",
       "      <td>[FrankDarabont]</td>\n",
       "    </tr>\n",
       "    <tr>\n",
       "      <th>1</th>\n",
       "      <td>238</td>\n",
       "      <td>The Godfather</td>\n",
       "      <td>Spanning the years 1945 to 1955, a chronicle o...</td>\n",
       "      <td>[D, r, a, m, a, ,, C, r, i, m, e]</td>\n",
       "      <td>[MarlonBrando, AlPacino, JamesCaan]</td>\n",
       "      <td>[FrancisFordCoppola]</td>\n",
       "    </tr>\n",
       "    <tr>\n",
       "      <th>2</th>\n",
       "      <td>424</td>\n",
       "      <td>Schindler's List</td>\n",
       "      <td>The true story of how businessman Oskar Schind...</td>\n",
       "      <td>[D, r, a, m, a, ,, H, i, s, t, o, r, y, ,, W, ...</td>\n",
       "      <td>[LiamNeeson, BenKingsley, RalphFiennes]</td>\n",
       "      <td>[StevenSpielberg]</td>\n",
       "    </tr>\n",
       "    <tr>\n",
       "      <th>3</th>\n",
       "      <td>240</td>\n",
       "      <td>The Godfather: Part II</td>\n",
       "      <td>In the continuing saga of the Corleone crime f...</td>\n",
       "      <td>[D, r, a, m, a, ,, C, r, i, m, e]</td>\n",
       "      <td>[AlPacino, RobertDuvall, DianeKeaton]</td>\n",
       "      <td>[FrancisFordCoppola]</td>\n",
       "    </tr>\n",
       "    <tr>\n",
       "      <th>4</th>\n",
       "      <td>129</td>\n",
       "      <td>Spirited Away</td>\n",
       "      <td>A young girl, Chihiro, becomes trapped in a st...</td>\n",
       "      <td>[A, n, i, m, a, t, i, o, n, ,, F, a, m, i, l, ...</td>\n",
       "      <td>[RumiHiiragi, MiyuIrino, MariNatsuki]</td>\n",
       "      <td>[HayaoMiyazaki]</td>\n",
       "    </tr>\n",
       "  </tbody>\n",
       "</table>\n",
       "</div>"
      ],
      "text/plain": [
       "   movie_id                     title  \\\n",
       "0       278  The Shawshank Redemption   \n",
       "1       238             The Godfather   \n",
       "2       424          Schindler's List   \n",
       "3       240    The Godfather: Part II   \n",
       "4       129             Spirited Away   \n",
       "\n",
       "                                            overview  \\\n",
       "0  Framed in the 1940s for the double murder of h...   \n",
       "1  Spanning the years 1945 to 1955, a chronicle o...   \n",
       "2  The true story of how businessman Oskar Schind...   \n",
       "3  In the continuing saga of the Corleone crime f...   \n",
       "4  A young girl, Chihiro, becomes trapped in a st...   \n",
       "\n",
       "                                               genre  \\\n",
       "0                  [D, r, a, m, a, ,, C, r, i, m, e]   \n",
       "1                  [D, r, a, m, a, ,, C, r, i, m, e]   \n",
       "2  [D, r, a, m, a, ,, H, i, s, t, o, r, y, ,, W, ...   \n",
       "3                  [D, r, a, m, a, ,, C, r, i, m, e]   \n",
       "4  [A, n, i, m, a, t, i, o, n, ,, F, a, m, i, l, ...   \n",
       "\n",
       "                                      cast                  crew  \n",
       "0   [TimRobbins, MorganFreeman, BobGunton]       [FrankDarabont]  \n",
       "1      [MarlonBrando, AlPacino, JamesCaan]  [FrancisFordCoppola]  \n",
       "2  [LiamNeeson, BenKingsley, RalphFiennes]     [StevenSpielberg]  \n",
       "3    [AlPacino, RobertDuvall, DianeKeaton]  [FrancisFordCoppola]  \n",
       "4    [RumiHiiragi, MiyuIrino, MariNatsuki]       [HayaoMiyazaki]  "
      ]
     },
     "execution_count": 75,
     "metadata": {},
     "output_type": "execute_result"
    }
   ],
   "source": [
    "\n",
    "movies.head()"
   ]
  },
  {
   "cell_type": "code",
   "execution_count": 76,
   "id": "92ebccf7-d68b-44f7-bf35-9671528b84fa",
   "metadata": {},
   "outputs": [],
   "source": [
    "movies['overview'] = movies['overview'].apply(lambda x:x.split())"
   ]
  },
  {
   "cell_type": "code",
   "execution_count": 77,
   "id": "d51455bb-c020-4a60-a4ec-7f6b1c95bf3e",
   "metadata": {},
   "outputs": [],
   "source": [
    "movies['tags'] = movies['overview'] + movies['genre'] + movies['cast'] + movies['crew']"
   ]
  },
  {
   "cell_type": "code",
   "execution_count": 78,
   "id": "b3372399-c1bc-420d-b4b5-cba264d3b01c",
   "metadata": {},
   "outputs": [],
   "source": [
    "new = movies.drop(columns=['overview','genre','cast','crew'])\n",
    "#new.head()"
   ]
  },
  {
   "cell_type": "code",
   "execution_count": 79,
   "id": "cc5adb2e-7b52-4449-95fe-acceeb57b68b",
   "metadata": {},
   "outputs": [
    {
     "data": {
      "text/html": [
       "<div>\n",
       "<style scoped>\n",
       "    .dataframe tbody tr th:only-of-type {\n",
       "        vertical-align: middle;\n",
       "    }\n",
       "\n",
       "    .dataframe tbody tr th {\n",
       "        vertical-align: top;\n",
       "    }\n",
       "\n",
       "    .dataframe thead th {\n",
       "        text-align: right;\n",
       "    }\n",
       "</style>\n",
       "<table border=\"1\" class=\"dataframe\">\n",
       "  <thead>\n",
       "    <tr style=\"text-align: right;\">\n",
       "      <th></th>\n",
       "      <th>movie_id</th>\n",
       "      <th>title</th>\n",
       "      <th>tags</th>\n",
       "    </tr>\n",
       "  </thead>\n",
       "  <tbody>\n",
       "    <tr>\n",
       "      <th>0</th>\n",
       "      <td>278</td>\n",
       "      <td>The Shawshank Redemption</td>\n",
       "      <td>Framed in the 1940s for the double murder of h...</td>\n",
       "    </tr>\n",
       "    <tr>\n",
       "      <th>1</th>\n",
       "      <td>238</td>\n",
       "      <td>The Godfather</td>\n",
       "      <td>Spanning the years 1945 to 1955, a chronicle o...</td>\n",
       "    </tr>\n",
       "    <tr>\n",
       "      <th>2</th>\n",
       "      <td>424</td>\n",
       "      <td>Schindler's List</td>\n",
       "      <td>The true story of how businessman Oskar Schind...</td>\n",
       "    </tr>\n",
       "    <tr>\n",
       "      <th>3</th>\n",
       "      <td>240</td>\n",
       "      <td>The Godfather: Part II</td>\n",
       "      <td>In the continuing saga of the Corleone crime f...</td>\n",
       "    </tr>\n",
       "    <tr>\n",
       "      <th>4</th>\n",
       "      <td>129</td>\n",
       "      <td>Spirited Away</td>\n",
       "      <td>A young girl, Chihiro, becomes trapped in a st...</td>\n",
       "    </tr>\n",
       "  </tbody>\n",
       "</table>\n",
       "</div>"
      ],
      "text/plain": [
       "   movie_id                     title  \\\n",
       "0       278  The Shawshank Redemption   \n",
       "1       238             The Godfather   \n",
       "2       424          Schindler's List   \n",
       "3       240    The Godfather: Part II   \n",
       "4       129             Spirited Away   \n",
       "\n",
       "                                                tags  \n",
       "0  Framed in the 1940s for the double murder of h...  \n",
       "1  Spanning the years 1945 to 1955, a chronicle o...  \n",
       "2  The true story of how businessman Oskar Schind...  \n",
       "3  In the continuing saga of the Corleone crime f...  \n",
       "4  A young girl, Chihiro, becomes trapped in a st...  "
      ]
     },
     "execution_count": 79,
     "metadata": {},
     "output_type": "execute_result"
    }
   ],
   "source": [
    "new['tags'] = new['tags'].apply(lambda x: \" \".join(x))\n",
    "new.head()"
   ]
  },
  {
   "cell_type": "code",
   "execution_count": 80,
   "id": "de2c6bca-418e-44b1-b7d3-39eeb016644c",
   "metadata": {},
   "outputs": [],
   "source": [
    "from sklearn.feature_extraction.text import CountVectorizer\n",
    "cv = CountVectorizer(max_features=5000,stop_words='english')"
   ]
  },
  {
   "cell_type": "code",
   "execution_count": 81,
   "id": "6469c687-dca3-4693-afd7-bc0c1c50c500",
   "metadata": {},
   "outputs": [],
   "source": [
    "vector = cv.fit_transform(new['tags']).toarray()"
   ]
  },
  {
   "cell_type": "code",
   "execution_count": 82,
   "id": "70108d14-2d26-4236-bd2b-ab1b642ed198",
   "metadata": {},
   "outputs": [
    {
     "data": {
      "text/plain": [
       "(3569, 5000)"
      ]
     },
     "execution_count": 82,
     "metadata": {},
     "output_type": "execute_result"
    }
   ],
   "source": [
    "vector.shape"
   ]
  },
  {
   "cell_type": "code",
   "execution_count": 83,
   "id": "58f50e35-3875-4c5c-8fdc-12c28a2633ed",
   "metadata": {},
   "outputs": [],
   "source": [
    "from sklearn.metrics.pairwise import cosine_similarity"
   ]
  },
  {
   "cell_type": "code",
   "execution_count": null,
   "id": "867f0b74-79a4-4825-b8c9-cb0538f12cdf",
   "metadata": {},
   "outputs": [],
   "source": []
  },
  {
   "cell_type": "code",
   "execution_count": 84,
   "id": "aa3cd7b0-be9b-4cfe-a2dc-ecb2d4977a3d",
   "metadata": {},
   "outputs": [],
   "source": [
    "similarity = cosine_similarity(vector)"
   ]
  },
  {
   "cell_type": "code",
   "execution_count": 85,
   "id": "8114448d-a0f9-4322-8236-1e1e18e87d39",
   "metadata": {},
   "outputs": [
    {
     "data": {
      "text/plain": [
       "array([[1.        , 0.02867697, 0.        , ..., 0.04287465, 0.08111071,\n",
       "        0.03768892],\n",
       "       [0.02867697, 1.        , 0.        , ..., 0.        , 0.03721615,\n",
       "        0.        ],\n",
       "       [0.        , 0.        , 1.        , ..., 0.05882353, 0.        ,\n",
       "        0.        ],\n",
       "       ...,\n",
       "       [0.04287465, 0.        , 0.05882353, ..., 1.        , 0.        ,\n",
       "        0.        ],\n",
       "       [0.08111071, 0.03721615, 0.        , ..., 0.        , 1.        ,\n",
       "        0.        ],\n",
       "       [0.03768892, 0.        , 0.        , ..., 0.        , 0.        ,\n",
       "        1.        ]])"
      ]
     },
     "execution_count": 85,
     "metadata": {},
     "output_type": "execute_result"
    }
   ],
   "source": [
    "similarity"
   ]
  },
  {
   "cell_type": "code",
   "execution_count": 86,
   "id": "b8f1aefb-bf19-451d-b311-1a7358b9af3c",
   "metadata": {},
   "outputs": [
    {
     "data": {
      "text/plain": [
       "486"
      ]
     },
     "execution_count": 86,
     "metadata": {},
     "output_type": "execute_result"
    }
   ],
   "source": [
    "new[new['title'] == 'The Lego Movie'].index[0]"
   ]
  },
  {
   "cell_type": "code",
   "execution_count": 87,
   "id": "fafc3498-bd83-4788-a9f8-baee64d7b2d3",
   "metadata": {},
   "outputs": [],
   "source": [
    "def recommend(movie):\n",
    "    index = new[new['title'] == movie].index[0]\n",
    "    distances = sorted(list(enumerate(similarity[index])),reverse=True,key = lambda x: x[1])\n",
    "    for i in distances[1:6]:\n",
    "        print(new.iloc[i[0]].title)\n",
    "        "
   ]
  },
  {
   "cell_type": "code",
   "execution_count": 88,
   "id": "24f73418-7647-4a0e-beb8-7fb3a9730948",
   "metadata": {},
   "outputs": [
    {
     "name": "stdout",
     "output_type": "stream",
     "text": [
      "A Passage to India\n",
      "Rang De Basanti\n",
      "For Your Eyes Only\n",
      "Terminator 2: Judgment Day\n",
      "Mr. Turner\n"
     ]
    }
   ],
   "source": [
    "recommend('Gandhi')"
   ]
  },
  {
   "cell_type": "code",
   "execution_count": 89,
   "id": "2fd5333d-fb2e-4928-bc66-5e7126469b7b",
   "metadata": {},
   "outputs": [],
   "source": [
    "import pickle"
   ]
  },
  {
   "cell_type": "code",
   "execution_count": 99,
   "id": "39fb5de6-0207-4126-adb5-b55ea19dc96e",
   "metadata": {},
   "outputs": [],
   "source": [
    "pickle.dump(new,open('movie_list.pkl','wb'))\n",
    "pickle.dump(similarity,open('similarity.pkl','wb'))"
   ]
  },
  {
   "cell_type": "code",
   "execution_count": 103,
   "id": "3fad567d-e5b4-4a09-ab1a-937dd90218aa",
   "metadata": {},
   "outputs": [],
   "source": []
  },
  {
   "cell_type": "code",
   "execution_count": 102,
   "id": "0ebe6ebe-536c-41b1-a7af-fc9b014dc101",
   "metadata": {},
   "outputs": [],
   "source": []
  }
 ],
 "metadata": {
  "kernelspec": {
   "display_name": "Python 3 (ipykernel)",
   "language": "python",
   "name": "python3"
  },
  "language_info": {
   "codemirror_mode": {
    "name": "ipython",
    "version": 3
   },
   "file_extension": ".py",
   "mimetype": "text/x-python",
   "name": "python",
   "nbconvert_exporter": "python",
   "pygments_lexer": "ipython3",
   "version": "3.12.4"
  }
 },
 "nbformat": 4,
 "nbformat_minor": 5
}
